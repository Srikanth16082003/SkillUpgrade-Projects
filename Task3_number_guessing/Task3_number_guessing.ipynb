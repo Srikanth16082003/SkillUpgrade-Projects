{
 "cells": [
  {
   "cell_type": "code",
   "execution_count": 2,
   "metadata": {},
   "outputs": [],
   "source": [
    "import tkinter as tk\n",
    "from tkinter import messagebox\n",
    "import random\n",
    "\n",
    "# Initialize the main application window\n",
    "root = tk.Tk()\n",
    "root.title(\"Number Guessing Game\")\n",
    "root.geometry(\"400x300\")\n",
    "\n",
    "# Game logic and functions\n",
    "def start_game():\n",
    "    global target_number\n",
    "    target_number = random.randint(1, 10)\n",
    "    guess_entry.delete(0, tk.END)\n",
    "    result_label.config(text=\"Guess a number between 1 and 10\")\n",
    "\n",
    "def check_guess():\n",
    "    try:\n",
    "        guess = int(guess_entry.get())\n",
    "        if guess < 1 or guess > 10:\n",
    "            raise ValueError(\"Out of bounds\")\n",
    "        if guess < target_number:\n",
    "            result_label.config(text=\"Too low! Try again.\")\n",
    "        elif guess > target_number:\n",
    "            result_label.config(text=\"Too high! Try again.\")\n",
    "        else:\n",
    "            messagebox.showinfo(\"Congratulations!\", \"You guessed it!\")\n",
    "            start_game()\n",
    "    except ValueError:\n",
    "        result_label.config(text=\"Please enter a valid number between 1 and 50\")\n",
    "\n",
    "# GUI Components\n",
    "instruction_label = tk.Label(root, text=\"Enter your guess:\")\n",
    "instruction_label.pack(pady=10)\n",
    "\n",
    "guess_entry = tk.Entry(root)\n",
    "guess_entry.pack(pady=5)\n",
    "\n",
    "guess_button = tk.Button(root, text=\"Guess\", command=check_guess)\n",
    "guess_button.pack(pady=5)\n",
    "\n",
    "result_label = tk.Label(root, text=\"Guess a number between 1 and 50\")\n",
    "result_label.pack(pady=20)\n",
    "\n",
    "restart_button = tk.Button(root, text=\"Restart Game\", command=start_game)\n",
    "restart_button.pack(pady=10)\n",
    "\n",
    "# Start the game\n",
    "start_game()\n",
    "root.mainloop()\n"
   ]
  }
 ],
 "metadata": {
  "kernelspec": {
   "display_name": "Python 3",
   "language": "python",
   "name": "python3"
  },
  "language_info": {
   "codemirror_mode": {
    "name": "ipython",
    "version": 3
   },
   "file_extension": ".py",
   "mimetype": "text/x-python",
   "name": "python",
   "nbconvert_exporter": "python",
   "pygments_lexer": "ipython3",
   "version": "3.12.3"
  }
 },
 "nbformat": 4,
 "nbformat_minor": 2
}
